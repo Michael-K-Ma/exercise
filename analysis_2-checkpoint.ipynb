{
 "cells": [
  {
   "cell_type": "code",
   "execution_count": null,
   "metadata": {},
   "outputs": [],
   "source": [
    "import csv\n",
    "import numpy as np\n",
    "\n",
    "with open('iris.csv', encoding='utf-8') as iris:\n",
    "    data = np.loadtxt(iris,str, delimiter=',')\n",
    "    print(data)\n",
    "\n",
    "iris_min_index = np.argmin(data)\n",
    "\n",
    "iris_max_index = np.argmax(data)\n",
    "\n",
    "iris_min = min(data)\n",
    "\n",
    "iris_max = max(data)\n",
    "\n",
    "data.sort()\n",
    "\n",
    "iris_unique = np.unique(data)\n",
    "\n",
    "iris_average = np.mean(data.astype(float))\n",
    "\n",
    "data_float = data.astype(float)\n",
    "iris_std = np.std(data_float)\n",
    "\n",
    "iris_var = np.var(data_float)\n",
    "\n",
    "iris_sum = np.sum(data_float)\n",
    "\n",
    "iris_cumsum = np.cumsum(data_float)\n",
    "\n",
    "(data_float>5.84).sum()\n",
    "\n"
   ]
  }
 ],
 "metadata": {
  "kernelspec": {
   "display_name": "Python 3",
   "language": "python",
   "name": "python3"
  },
  "language_info": {
   "codemirror_mode": {
    "name": "ipython",
    "version": 3
   },
   "file_extension": ".py",
   "mimetype": "text/x-python",
   "name": "python",
   "nbconvert_exporter": "python",
   "pygments_lexer": "ipython3",
   "version": "3.7.6"
  }
 },
 "nbformat": 4,
 "nbformat_minor": 4
}
